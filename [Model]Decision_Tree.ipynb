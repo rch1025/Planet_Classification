{
 "cells": [
  {
   "cell_type": "markdown",
   "metadata": {},
   "source": [
    "# Decision Tree \n",
    "1. 개념\n",
    "    - 데이터에 있는 규칙(일련의 결정 규칙)을 학습을 통해 자동으로 찾아낸 트리 기반의 분류 규칙을 만드는 것\n",
    "    - if/esle 기반으로 예측 위한 규칙을 만드는 알고리즘\n",
    "    - 스무고개 게임과 비슷하다고 생각하면 된다.\n",
    "\n",
    "2. 특징\n",
    "    - 분류학습과 회귀학습 모두 적용 가능\n",
    "    - 해석이 용이\n",
    "    - scale에 영향을 받지 않음\n",
    "    - 범주형 변수를 수치형으로 변환하지 않고 학습 가능\n",
    "    - Random Forest, GBM(XGBoost, LightGBM)의 기반이 되는 알고리즘\n",
    "\n",
    "3. 분류학습과 회귀학습\n",
    "    - 분류학습\n",
    "        + 범주를 가장 잘 구분할 수 있는 변수와 그 변수의 기준값을 검색\n",
    "        + 위의 변수 / 기준값을 기준으로 자식 노드 구분\n",
    "    - 회귀학습\n",
    "        + 손실함수를 최소화하는 변수/기준값을 검색\n",
    "        + 위의 변수/기준값을 기준으로 자식 노드 구분"
   ]
  },
  {
   "cell_type": "markdown",
   "metadata": {},
   "source": [
    "## <라이브러리 import 및 설정>"
   ]
  },
  {
   "cell_type": "code",
   "execution_count": 1,
   "metadata": {
    "ExecuteTime": {
     "end_time": "2020-09-21T07:58:24.311325Z",
     "start_time": "2020-09-21T07:58:24.007955Z"
    }
   },
   "outputs": [],
   "source": [
    "%reload_ext autoreload\n",
    "%autoreload 2\n",
    "%matplotlib inline"
   ]
  },
  {
   "cell_type": "code",
   "execution_count": 2,
   "metadata": {
    "ExecuteTime": {
     "end_time": "2020-09-21T07:58:24.916615Z",
     "start_time": "2020-09-21T07:58:24.313398Z"
    }
   },
   "outputs": [],
   "source": [
    "import graphviz\n",
    "from matplotlib import pyplot as plt\n",
    "from matplotlib import rcParams\n",
    "import numpy as np\n",
    "from pathlib import Path\n",
    "import pandas as pd\n",
    "from sklearn.tree import DecisionTreeClassifier, export_graphviz\n",
    "from sklearn.metrics import accuracy_score\n",
    "from sklearn.model_selection import KFold\n",
    "import warnings"
   ]
  },
  {
   "cell_type": "code",
   "execution_count": 3,
   "metadata": {
    "ExecuteTime": {
     "end_time": "2020-09-21T07:58:24.942305Z",
     "start_time": "2020-09-21T07:58:24.920530Z"
    }
   },
   "outputs": [],
   "source": [
    "rcParams['figure.figsize'] = (16, 8)\n",
    "plt.style.use('ggplot')\n",
    "pd.set_option('max_columns', 20)\n",
    "pd.set_option(\"display.precision\", 4)\n",
    "warnings.simplefilter('ignore')"
   ]
  },
  {
   "cell_type": "markdown",
   "metadata": {},
   "source": [
    "## <데이터 로드>"
   ]
  },
  {
   "cell_type": "code",
   "execution_count": 4,
   "metadata": {
    "ExecuteTime": {
     "end_time": "2020-09-21T07:58:24.967204Z",
     "start_time": "2020-09-21T07:58:24.944918Z"
    }
   },
   "outputs": [],
   "source": [
    "data_dir = Path('')\n",
    "sub_dir = Path('')\n",
    "\n",
    "trn_file = data_dir / 'train.csv'\n",
    "tst_file = data_dir / 'test.csv'\n",
    "sample_file = data_dir / 'sample_submission.csv'\n",
    "\n",
    "target_col = 'class'\n",
    "seed = 42"
   ]
  },
  {
   "cell_type": "code",
   "execution_count": 5,
   "metadata": {
    "ExecuteTime": {
     "end_time": "2020-09-21T07:58:24.993118Z",
     "start_time": "2020-09-21T07:58:24.969489Z"
    }
   },
   "outputs": [],
   "source": [
    "algo_name = 'Dtree'\n",
    "feature_name = 'fe'\n",
    "model_name = f'{algo_name}_{feature_name}'\n",
    "\n",
    "sub_file = sub_dir / f'{model_name}.csv'"
   ]
  },
  {
   "cell_type": "code",
   "execution_count": null,
   "metadata": {
    "ExecuteTime": {
     "end_time": "2020-09-21T07:58:26.103285Z",
     "start_time": "2020-09-21T07:58:24.995160Z"
    }
   },
   "outputs": [],
   "source": [
    "# 데이터 불러오기\n",
    "trn = pd.read_csv(trn_file, index_col=0)\n",
    "tst = pd.read_csv(tst_file, index_col=0)\n",
    "\n",
    "# 종속변수\n",
    "y = trn[target_col]\n",
    "\n",
    "# y를 제외하고 trn 생성\n",
    "trn.drop(target_col, axis=1, inplace=True)\n",
    "print(y.shape, trn.shape, tst.shape)\n",
    "trn.head()"
   ]
  },
  {
   "cell_type": "markdown",
   "metadata": {},
   "source": [
    "## <결정트리 학습>\n",
    "### [파라미터]\n",
    "1. min_sample_split\n",
    "    - 노드를 분할하기 위한 최소한의 샘플 데이터 수\n",
    "    - 디폴트는 2이고 작게 설정할수록 과적합 가능성 증가\n",
    "2. min_samples_leaf\n",
    "    - 말단 노드가 되기 위한 초소한의 샘플 데이터 수\n",
    "    - 비대칭적 데이터의 경우는 작게 설정해야 함\n",
    "3. max_leaf_nodes\n",
    "    - 말단 노드의 최대 개수\n",
    "4. max_features\n",
    "    - 최적의 분할을 위해 고려할 최대 피처 개수\n",
    "    - float형으로 쓰면 전체 피처 중 퍼센트로 고려\n",
    "5. max_depth\n",
    "    - 트리의 최대 깊이를 고정\n",
    "    - 디폴트 = None : 완벽하게 클래스 결정 값이 될 때까지 깊이를 계속 키움\n",
    "        + 과적합으로 이어질 수 있으니 적절한 값으로 제어 필요"
   ]
  },
  {
   "cell_type": "code",
   "execution_count": 8,
   "metadata": {
    "ExecuteTime": {
     "end_time": "2020-09-21T07:58:29.860475Z",
     "start_time": "2020-09-21T07:58:26.105574Z"
    }
   },
   "outputs": [
    {
     "data": {
      "text/plain": [
       "DecisionTreeClassifier(random_state=42)"
      ]
     },
     "execution_count": 8,
     "metadata": {},
     "output_type": "execute_result"
    }
   ],
   "source": [
    "# 파라미터를 default값으로 설정하고 모델 학습\n",
    "DT_clf = DecisionTreeClassifier(random_state=42)\n",
    "DT_clf.fit(trn, y)"
   ]
  },
  {
   "cell_type": "code",
   "execution_count": 8,
   "metadata": {
    "ExecuteTime": {
     "end_time": "2020-09-21T07:58:29.944204Z",
     "start_time": "2020-09-21T07:58:29.862374Z"
    }
   },
   "outputs": [
    {
     "name": "stdout",
     "output_type": "stream",
     "text": [
      "88.8669%\n"
     ]
    }
   ],
   "source": [
    "# 학습데이터의 정확도 확인\n",
    "print(f'{accuracy_score(y, DT_clf.predict(trn)) * 100:.4f}%')"
   ]
  },
  {
   "cell_type": "markdown",
   "metadata": {},
   "source": [
    "## <결정트리 시각화>\n",
    "- 시각화를 위해서는 Graphviz를 내려 받은 뒤 설치해야 한다.\n",
    "- Anaconda Prompt 를 ‘관리자 권한으로 실행’하여 pip install graphviz 입력하기 \n",
    "- 이후 Graphviz와 파이썬 래퍼를 연결하기 위해 추가적인 환경설정 필요"
   ]
  },
  {
   "cell_type": "code",
   "execution_count": null,
   "metadata": {
    "ExecuteTime": {
     "end_time": "2020-09-21T07:58:30.321220Z",
     "start_time": "2020-09-21T07:58:29.946555Z"
    }
   },
   "outputs": [],
   "source": [
    "dot_data = export_graphviz(DT_clf, out_file=None,\n",
    "                           feature_names=trn.columns,\n",
    "                           filled=True,\n",
    "                           rounded=True,\n",
    "                           special_characters=True)  \n",
    "graph = graphviz.Source(dot_data)  \n",
    "graph "
   ]
  },
  {
   "cell_type": "markdown",
   "metadata": {},
   "source": [
    "## <feature_importances 확인>\n",
    "- feature_importances는 ndarray 형태로 값을 반환하며 피처 순서대로 값이 할당된다.\n",
    "- 값이 높을수록 해당 피처의 중요도가 높다는 의미"
   ]
  },
  {
   "cell_type": "code",
   "execution_count": null,
   "metadata": {},
   "outputs": [],
   "source": [
    "# 피처별 정확도 확인\n",
    "print('Feature importances://n{0}' .format(np.round(DT_clf.feature_importances_., 3)))\n",
    "\n",
    "# feature importance를 column 별로 시각화\n",
    "sns.barplot(x = DT_clf.feature_importances, y = trn)"
   ]
  },
  {
   "cell_type": "markdown",
   "metadata": {},
   "source": [
    "## <평가 데이터 예측>\n",
    "- 어떠한 전처리도 거치지 않고 기본적인 알고리즘에 그대로 적용"
   ]
  },
  {
   "cell_type": "code",
   "execution_count": 10,
   "metadata": {
    "ExecuteTime": {
     "end_time": "2020-09-21T07:58:30.388047Z",
     "start_time": "2020-09-21T07:58:30.324422Z"
    }
   },
   "outputs": [
    {
     "name": "stdout",
     "output_type": "stream",
     "text": [
      "(80000, 1)\n"
     ]
    },
    {
     "data": {
      "text/html": [
       "<div>\n",
       "<style scoped>\n",
       "    .dataframe tbody tr th:only-of-type {\n",
       "        vertical-align: middle;\n",
       "    }\n",
       "\n",
       "    .dataframe tbody tr th {\n",
       "        vertical-align: top;\n",
       "    }\n",
       "\n",
       "    .dataframe thead th {\n",
       "        text-align: right;\n",
       "    }\n",
       "</style>\n",
       "<table border=\"1\" class=\"dataframe\">\n",
       "  <thead>\n",
       "    <tr style=\"text-align: right;\">\n",
       "      <th></th>\n",
       "      <th>class</th>\n",
       "    </tr>\n",
       "    <tr>\n",
       "      <th>id</th>\n",
       "      <th></th>\n",
       "    </tr>\n",
       "  </thead>\n",
       "  <tbody>\n",
       "    <tr>\n",
       "      <th>320000</th>\n",
       "      <td>0</td>\n",
       "    </tr>\n",
       "    <tr>\n",
       "      <th>320001</th>\n",
       "      <td>0</td>\n",
       "    </tr>\n",
       "    <tr>\n",
       "      <th>320002</th>\n",
       "      <td>0</td>\n",
       "    </tr>\n",
       "    <tr>\n",
       "      <th>320003</th>\n",
       "      <td>0</td>\n",
       "    </tr>\n",
       "    <tr>\n",
       "      <th>320004</th>\n",
       "      <td>0</td>\n",
       "    </tr>\n",
       "  </tbody>\n",
       "</table>\n",
       "</div>"
      ],
      "text/plain": [
       "        class\n",
       "id           \n",
       "320000      0\n",
       "320001      0\n",
       "320002      0\n",
       "320003      0\n",
       "320004      0"
      ]
     },
     "execution_count": 10,
     "metadata": {},
     "output_type": "execute_result"
    }
   ],
   "source": [
    "sub = pd.read_csv(sample_file, index_col=0)\n",
    "print(sub.shape)\n",
    "sub.head()"
   ]
  },
  {
   "cell_type": "code",
   "execution_count": 11,
   "metadata": {
    "ExecuteTime": {
     "end_time": "2020-09-21T07:58:30.444461Z",
     "start_time": "2020-09-21T07:58:30.391820Z"
    }
   },
   "outputs": [
    {
     "data": {
      "text/html": [
       "<div>\n",
       "<style scoped>\n",
       "    .dataframe tbody tr th:only-of-type {\n",
       "        vertical-align: middle;\n",
       "    }\n",
       "\n",
       "    .dataframe tbody tr th {\n",
       "        vertical-align: top;\n",
       "    }\n",
       "\n",
       "    .dataframe thead th {\n",
       "        text-align: right;\n",
       "    }\n",
       "</style>\n",
       "<table border=\"1\" class=\"dataframe\">\n",
       "  <thead>\n",
       "    <tr style=\"text-align: right;\">\n",
       "      <th></th>\n",
       "      <th>class</th>\n",
       "    </tr>\n",
       "    <tr>\n",
       "      <th>id</th>\n",
       "      <th></th>\n",
       "    </tr>\n",
       "  </thead>\n",
       "  <tbody>\n",
       "    <tr>\n",
       "      <th>320000</th>\n",
       "      <td>2</td>\n",
       "    </tr>\n",
       "    <tr>\n",
       "      <th>320001</th>\n",
       "      <td>0</td>\n",
       "    </tr>\n",
       "    <tr>\n",
       "      <th>320002</th>\n",
       "      <td>2</td>\n",
       "    </tr>\n",
       "    <tr>\n",
       "      <th>320003</th>\n",
       "      <td>0</td>\n",
       "    </tr>\n",
       "    <tr>\n",
       "      <th>320004</th>\n",
       "      <td>2</td>\n",
       "    </tr>\n",
       "  </tbody>\n",
       "</table>\n",
       "</div>"
      ],
      "text/plain": [
       "        class\n",
       "id           \n",
       "320000      2\n",
       "320001      0\n",
       "320002      2\n",
       "320003      0\n",
       "320004      2"
      ]
     },
     "execution_count": 11,
     "metadata": {},
     "output_type": "execute_result"
    }
   ],
   "source": [
    "sub[target_col] = clf.predict(tst)\n",
    "sub.head()"
   ]
  },
  {
   "cell_type": "code",
   "execution_count": 12,
   "metadata": {
    "ExecuteTime": {
     "end_time": "2020-09-21T07:58:30.480636Z",
     "start_time": "2020-09-21T07:58:30.447567Z"
    }
   },
   "outputs": [
    {
     "data": {
      "text/plain": [
       "2    45299\n",
       "0    29882\n",
       "1     4819\n",
       "Name: class, dtype: int64"
      ]
     },
     "execution_count": 12,
     "metadata": {},
     "output_type": "execute_result"
    }
   ],
   "source": [
    "sub[target_col].value_counts()"
   ]
  },
  {
   "cell_type": "markdown",
   "metadata": {},
   "source": [
    "## <제출파일 저장>\n",
    "- 파일 제출을 위해 submission_file 저장"
   ]
  },
  {
   "cell_type": "code",
   "execution_count": 13,
   "metadata": {
    "ExecuteTime": {
     "end_time": "2020-09-21T07:58:30.616584Z",
     "start_time": "2020-09-21T07:58:30.482921Z"
    }
   },
   "outputs": [],
   "source": [
    "sub.to_csv(sub_file)"
   ]
  }
 ],
 "metadata": {
  "kernelspec": {
   "display_name": "Python 3",
   "language": "python",
   "name": "python3"
  },
  "language_info": {
   "codemirror_mode": {
    "name": "ipython",
    "version": 3
   },
   "file_extension": ".py",
   "mimetype": "text/x-python",
   "name": "python",
   "nbconvert_exporter": "python",
   "pygments_lexer": "ipython3",
   "version": "3.7.6"
  },
  "toc": {
   "base_numbering": 1,
   "nav_menu": {},
   "number_sections": true,
   "sideBar": true,
   "skip_h1_title": true,
   "title_cell": "Table of Contents",
   "title_sidebar": "Contents",
   "toc_cell": false,
   "toc_position": {},
   "toc_section_display": true,
   "toc_window_display": false
  }
 },
 "nbformat": 4,
 "nbformat_minor": 4
}
